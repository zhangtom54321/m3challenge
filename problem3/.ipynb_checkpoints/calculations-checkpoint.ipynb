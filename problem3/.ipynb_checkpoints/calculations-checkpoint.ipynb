{
 "cells": [
  {
   "cell_type": "code",
   "execution_count": 31,
   "metadata": {},
   "outputs": [
    {
     "name": "stdout",
     "output_type": "stream",
     "text": [
      "[-0.6976118371186415, 1.292799818841536, 0.12042956553106904, -0.7156175472539632]\n"
     ]
    }
   ],
   "source": [
    "##Importing the necessary data for this script.\n",
    "import numpy as np\n",
    "\n",
    "##medical cost 'a', crime rate 'b', expected cost 'y'\n",
    "#We have shown in the paper that we only need to consider this\n",
    "# problem in the simplest form for our calculation, but a closed\n",
    "# form certain exists if new substances were to be added and considered.\n",
    "data = [[103, 0.018, 3592], # nicotine\n",
    "        [9878, 0.133, 10140], # opioids\n",
    "        [1642, 0.22, 840], # marijuana\n",
    "        [151, 0.05, 807]] # alcohol\n",
    "\n",
    "##Calculates, via the numpy package, the means and standard \n",
    "# deviations of each column. These will be used for later.\n",
    "data = np.array(data)\n",
    "means = np.mean(data, axis=0)\n",
    "sds = np.std(data, axis=0)\n",
    "for row in range(len(data)):\n",
    "    for col in range(len(data[row])):\n",
    "        data[row][col] = (data[row][col]-means[col])/sds[col]\n",
    "##This is the calculation that was developed during the theorization\n",
    "# section of the paper. \n",
    "prod = [0.5, 0.3, 0.2]\n",
    "\n",
    "##doing vector multiplication by the matrix, this is just piecewise\n",
    "# multiplication here. Summing each of the values via vector addition,\n",
    "# swhich finally gives us the impact scores M, which we have printed below.\n",
    "out = []\n",
    "for row in data: \n",
    "    sum = row[0]*prod[0] + row[1]*prod[1] + row[2]*prod[2]\n",
    "    out.append(sum)\n",
    "#Printing of the results.\n",
    "print(out)"
   ]
  },
  {
   "cell_type": "code",
   "execution_count": null,
   "metadata": {},
   "outputs": [],
   "source": []
  }
 ],
 "metadata": {
  "kernelspec": {
   "display_name": "Python 3",
   "language": "python",
   "name": "python3"
  },
  "language_info": {
   "codemirror_mode": {
    "name": "ipython",
    "version": 3
   },
   "file_extension": ".py",
   "mimetype": "text/x-python",
   "name": "python",
   "nbconvert_exporter": "python",
   "pygments_lexer": "ipython3",
   "version": "3.6.5"
  }
 },
 "nbformat": 4,
 "nbformat_minor": 2
}
