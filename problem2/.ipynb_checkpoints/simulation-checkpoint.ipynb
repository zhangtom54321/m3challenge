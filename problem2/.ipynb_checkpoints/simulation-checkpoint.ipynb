{
 "cells": [
  {
   "cell_type": "code",
   "execution_count": 42,
   "metadata": {
    "scrolled": false
   },
   "outputs": [
    {
     "name": "stdout",
     "output_type": "stream",
     "text": [
      "Nicotine: 140\n",
      "Marijuana: 96\n",
      "Alcohol: 104\n",
      "Opioid: 21\n"
     ]
    }
   ],
   "source": [
    "##Importing the necessary packages for this script.\n",
    "import random\n",
    "import numpy as np\n",
    "# Initiating a final constant, which is the number of students that we are\n",
    "# interested in studying.\n",
    "NUM_STUDENTS = 300\n",
    "\n",
    "##Defining percentages that have been defined by the data collected from the\n",
    "# CBC dataset. The list of these percentages are kept in a constant order,\n",
    "# and the details of the specific order are commented on the next line.\n",
    "# nothing, nicotine, marijuana, alcohol, opioids\n",
    "percentUsage = [0.45, 0.11, 0.21, 0.18, 0.05]\n",
    "percentAddicted = [0, 0.94, 0.17, 0.286, 0.1]\n",
    "\n",
    "##Using the data shown above, generates the actual number of students in our\n",
    "# simulation that use a certain substnace. There\n",
    "# can certainly be overlap within the people who use the substances.\n",
    "students = [] # 0: nothing, 1: nicotine, 2: marijuana, 3: alcohol, 4: opioids\n",
    "numNic = int(percentUsage[1]*NUM_STUDENTS)\n",
    "numMar = int(percentUsage[2]*NUM_STUDENTS)\n",
    "numAlc = int(percentUsage[3]*NUM_STUDENTS)\n",
    "numOpi = int(percentUsage[4]*NUM_STUDENTS)\n",
    "numNothing = NUM_STUDENTS-(numNic + numMar + numAlc + numOpi)\n",
    "\n",
    "##This bit of code is simply used to shuffle around the data, but to keep the\n",
    "# students in line with their respective substance use. This is so that the\n",
    "# students do not get mixed up with other substances in the future use of the code.\n",
    "for c in range(numNic):\n",
    "    students.append(1)\n",
    "for c in range(numMar):\n",
    "    students.append(2)\n",
    "for c in range(numAlc):\n",
    "    students.append(3)\n",
    "for c in range(numOpi):\n",
    "    students.append(4)\n",
    "for c in range(numNothing):\n",
    "    students.append(0)\n",
    "random.shuffle(students)\n",
    "\n",
    "##Runs the simulation in accordance to the theory presented in the section. Based\n",
    "# on the calculations of the section, simulate a graph that follows the patterns\n",
    "# based on friend groups. For each friend group, append an estimate for the\n",
    "# number of students addicted to each substance to their respective element in the\n",
    "# addiction array.  This array will eventually be added onto the starting conditions\n",
    "# defined at the top of the script.\n",
    "addiction = [0,0,0,0,0] # nothing, nicotine, marijuana, alcohol, opioids\n",
    "trials = 50000 # number of times we'll run the simulation\n",
    "for count in range(trials): # running simulation *trial* number of times\n",
    "    for group in range(int(NUM_STUDENTS/5)): # breaks students into student groups of 5,\n",
    "                                             # simulates \"friend groups\"\n",
    "        student_subset = students[group*5:(group+1)*5]\n",
    "        for student1 in student_subset:\n",
    "            for student2 in student_subset:\n",
    "                if student1 != 0 and student1 != student2:\n",
    "                    addiction[student1] += percentAddicted[student1]\n",
    "averageAddicted = np.array(addiction).astype(float)/trials\n",
    "averageAddicted[0] += numNothing\n",
    "averageAddicted[1] += numNic\n",
    "averageAddicted[2] += numMar\n",
    "averageAddicted[3] += numAlc\n",
    "averageAddicted[4] += numOpi\n",
    "\n",
    "# printing the average number of people addicted per simulation. We assume that this\n",
    "# happens over a long time, and thus feel no need to have to run this simulation\n",
    "# multiple times. In fact, we believe that running this simulation multiple times\n",
    "# will lead to overflow and thus unrealistic results.\n",
    "print(\"Nicotine: \" + str(int(averageAddicted[1])))\n",
    "print(\"Marijuana: \" + str(int(averageAddicted[2])))\n",
    "print(\"Alcohol: \" + str(int(averageAddicted[3])))\n",
    "print(\"Opioid: \" + str(int(averageAddicted[4])))\n",
    "##This result comes from 50000 trials, which means we can be pretty sure that the\n",
    "# sample has a very small standard error, since the standard error is directly\n",
    "# proportional to the inverse of the square root of 50000, which certainly is much\n",
    "# larger than population standard deviation of the trials."
   ]
  },
  {
   "cell_type": "code",
   "execution_count": null,
   "metadata": {},
   "outputs": [],
   "source": []
  },
  {
   "cell_type": "code",
   "execution_count": null,
   "metadata": {},
   "outputs": [],
   "source": []
  }
 ],
 "metadata": {
  "kernelspec": {
   "display_name": "Python 3",
   "language": "python",
   "name": "python3"
  },
  "language_info": {
   "codemirror_mode": {
    "name": "ipython",
    "version": 3
   },
   "file_extension": ".py",
   "mimetype": "text/x-python",
   "name": "python",
   "nbconvert_exporter": "python",
   "pygments_lexer": "ipython3",
   "version": "3.6.5"
  }
 },
 "nbformat": 4,
 "nbformat_minor": 2
}
